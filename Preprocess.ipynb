{
 "cells": [
  {
   "cell_type": "code",
   "execution_count": 53,
   "metadata": {},
   "outputs": [],
   "source": [
    "import struct\n",
    "import numpy as np\n",
    "import tensorflow as tf\n",
    "import skimage\n",
    "from PIL import Image\n",
    "from skimage.transform import resize\n",
    "import pandas as pd\n",
    "from keras.preprocessing.image import ImageDataGenerator\n",
    "from matplotlib.pyplot import imshow"
   ]
  },
  {
   "cell_type": "markdown",
   "metadata": {},
   "source": [
    "画像データを訓練評価できる形にする。\n",
    "\n",
    "ETL8Gデータベースの仕様は一つのタプルの2番目にJISコード、最後に1pixelごとのグレーレベルが入っている。\n",
    "\n",
    "グレーレベルの最大値が1となるように規格化をし、画像の画素数を32×32にする。"
   ]
  },
  {
   "cell_type": "code",
   "execution_count": 54,
   "metadata": {},
   "outputs": [],
   "source": [
    "def read_record_ETL8G(f):\n",
    "    s = f.read(8199)\n",
    "    r = struct.unpack('>2H8sI4B4H2B30x8128s11x', s)\n",
    "    iF = Image.frombytes('F', (128, 127), r[14], 'bit', 4)\n",
    "    iL = iF.convert('L')\n",
    "    return r + (iL,)"
   ]
  },
  {
   "cell_type": "code",
   "execution_count": 81,
   "metadata": {},
   "outputs": [],
   "source": [
    "if __name__ == '__main__':\n",
    "    data = []\n",
    "    jis = []\n",
    "    for i in range(1, 33):\n",
    "        with open('../ETL8G/ETL8G_{:02d}'.format(i), 'rb') as f:\n",
    "            for j in range(5*956):\n",
    "                r = read_record_ETL8G(f)\n",
    "                if 0x2421 <= r[1] <= 0x2473:\n",
    "                    data.append((\n",
    "                        resize(\n",
    "                            np.asarray(r[-1])/9*255,\n",
    "                            (32, 32),\n",
    "                            mode='constant')/255).flatten())\n",
    "                    jis.append(r[1])"
   ]
  },
  {
   "cell_type": "markdown",
   "metadata": {},
   "source": [
    "学習させる画像がどんなものか見てみる。"
   ]
  },
  {
   "cell_type": "code",
   "execution_count": 82,
   "metadata": {},
   "outputs": [
    {
     "data": {
      "image/png": "[encoded data removed]",
      "text/plain": [
       "<matplotlib.figure.Figure at 0x1c223669b0>"
      ]
     },
     "metadata": {},
     "output_type": "display_data"
    }
   ],
   "source": [
    "%matplotlib inline\n",
    "def img_show(img):\n",
    "    imshow(img)\n",
    "\n",
    "img_show(data[0].reshape(32, 32))"
   ]
  },
  {
   "cell_type": "markdown",
   "metadata": {},
   "source": [
    "このままではラベルがJISコード(92◯◯)のままで美しくない上にエラー吐かれるので、ラベリングをする。  \n",
    "新たなラベルclassとJISコード、それを表すひらがなを内包したclassmapping.csvを用意し、それぞれのJISコードに対応するclassを取得する。"
   ]
  },
  {
   "cell_type": "code",
   "execution_count": 83,
   "metadata": {},
   "outputs": [],
   "source": [
    "jis = pd.DataFrame({'jis': jis})\n",
    "classmapping = pd.read_csv('../classmapping.csv', dtype={'class': np.int32}, encoding='cp932')\n",
    "labels = pd.merge(\n",
    "            jis,\n",
    "            classmapping,\n",
    "            how='left',\n",
    "            on='jis')['class'].values"
   ]
  },
  {
   "cell_type": "code",
   "execution_count": 92,
   "metadata": {},
   "outputs": [
    {
     "data": {
      "text/plain": [
       "(600000, 1024)"
      ]
     },
     "execution_count": 92,
     "metadata": {},
     "output_type": "execute_result"
    }
   ],
   "source": [
    "# 元データの数\n",
    "data.shape"
   ]
  },
  {
   "cell_type": "markdown",
   "metadata": {},
   "source": [
    "このままではデータの数が12000枚と少ないので水増しを行う。  \n",
    "kerasのImageDataGeneratorを用い、回転・上下左右へシフト・拡大などを行う。"
   ]
  },
  {
   "cell_type": "code",
   "execution_count": 84,
   "metadata": {},
   "outputs": [],
   "source": [
    "# generatorの設定\n",
    "datagen = ImageDataGenerator(\n",
    "    rotation_range=20,\n",
    "    width_shift_range=0.1,\n",
    "    height_shift_range=0.1,\n",
    "    shear_range=0.39,\n",
    "    zoom_range=0.2,\n",
    "    data_format='channels_first')"
   ]
  },
  {
   "cell_type": "code",
   "execution_count": 85,
   "metadata": {},
   "outputs": [],
   "source": [
    "# generatorに投げられる形にする\n",
    "data = np.array(data, dtype=np.float32)\n",
    "reshaped_data = data.reshape((12000, 1, 32, 32))\n",
    "datagen.fit(reshaped_data)\n",
    "generator = datagen.flow(reshaped_data, labels, batch_size=12000)"
   ]
  },
  {
   "cell_type": "code",
   "execution_count": 87,
   "metadata": {},
   "outputs": [],
   "source": [
    "for i in range(49):\n",
    "    new_dataset = generator.next()\n",
    "    new_data = new_dataset[0].reshape((12000, 1024))\n",
    "    new_labels = new_dataset[1]\n",
    "    data = np.concatenate((data, new_data))\n",
    "    labels = np.append(labels, new_labels)"
   ]
  },
  {
   "cell_type": "code",
   "execution_count": 91,
   "metadata": {},
   "outputs": [
    {
     "data": {
      "text/plain": [
       "(600000, 1024)"
      ]
     },
     "execution_count": 91,
     "metadata": {},
     "output_type": "execute_result"
    }
   ],
   "source": [
    "# 水増し後のデータ数\n",
    "data.shape"
   ]
  },
  {
   "cell_type": "markdown",
   "metadata": {},
   "source": [
    "データ数を12000個から600000個に増やすことができた。  \n",
    "このdataflameをhira.npzとして保存する。"
   ]
  },
  {
   "cell_type": "code",
   "execution_count": 93,
   "metadata": {},
   "outputs": [],
   "source": [
    "np.savez_compressed(\n",
    "    './hira.npz',\n",
    "    data=data,\n",
    "    labels=labels)"
   ]
  }
 ],
 "metadata": {
  "kernelspec": {
   "display_name": "Python 3",
   "language": "python",
   "name": "python3"
  },
  "language_info": {
   "codemirror_mode": {
    "name": "ipython",
    "version": 3
   },
   "file_extension": ".py",
   "mimetype": "text/x-python",
   "name": "python",
   "nbconvert_exporter": "python",
   "pygments_lexer": "ipython3",
   "version": "3.6.4"
  }
 },
 "nbformat": 4,
 "nbformat_minor": 2
}
