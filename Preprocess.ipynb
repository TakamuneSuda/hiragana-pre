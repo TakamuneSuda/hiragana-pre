{
 "cells": [
  {
   "cell_type": "code",
   "execution_count": 1,
   "metadata": {},
   "outputs": [
    {
     "name": "stderr",
     "output_type": "stream",
     "text": [
      "/Users/sudatakamune/anaconda3/lib/python3.6/site-packages/h5py/__init__.py:36: FutureWarning: Conversion of the second argument of issubdtype from `float` to `np.floating` is deprecated. In future, it will be treated as `np.float64 == np.dtype(float).type`.\n",
      "  from ._conv import register_converters as _register_converters\n",
      "Using TensorFlow backend.\n"
     ]
    }
   ],
   "source": [
    "import struct\n",
    "import numpy as np\n",
    "import tensorflow as tf\n",
    "import skimage\n",
    "from PIL import Image\n",
    "from skimage.transform import resize\n",
    "import pandas as pd\n",
    "from keras.preprocessing.image import ImageDataGenerator"
   ]
  },
  {
   "cell_type": "code",
   "execution_count": 2,
   "metadata": {},
   "outputs": [],
   "source": [
    "def read_record_ETL8G(f):\n",
    "    s = f.read(8199)\n",
    "    r = struct.unpack('>2H8sI4B4H2B30x8128s11x', s)\n",
    "    iF = Image.frombytes('F', (128, 127), r[14], 'bit', 4)\n",
    "    iL = iF.convert('L')\n",
    "    return r + (iL,)"
   ]
  },
  {
   "cell_type": "code",
   "execution_count": 6,
   "metadata": {},
   "outputs": [],
   "source": [
    "if __name__ == '__main__':\n",
    "    data = []\n",
    "    jis = []\n",
    "    for i in range(1, 33):\n",
    "        with open('./ETL8G/ETL8G_{:02d}'.format(i), 'rb') as f:\n",
    "            for j in range(5*956):\n",
    "                r = read_record_ETL8G(f)\n",
    "                if 0x2421 <= r[1] <= 0x2473:\n",
    "                    data.append((\n",
    "                        resize(\n",
    "                            np.asarray(r[-1])/9*255,\n",
    "                            (32, 32),\n",
    "                            mode='constant')/255).flatten())\n",
    "                    jis.append(r[1])\n"
   ]
  },
  {
   "cell_type": "code",
   "execution_count": 26,
   "metadata": {},
   "outputs": [],
   "source": [
    "jis = pd.DataFrame({'jis': jis})\n",
    "classmapping = pd.read_csv('./classmapping.csv', dtype={'class': np.int32}, encoding='cp932')\n",
    "labels = pd.merge(\n",
    "            jis,\n",
    "            classmapping,\n",
    "            how='left',\n",
    "            on='jis')['class'].values"
   ]
  },
  {
   "cell_type": "code",
   "execution_count": 29,
   "metadata": {},
   "outputs": [],
   "source": [
    "datagen = ImageDataGenerator(\n",
    "    rotation_range=20,\n",
    "    width_shift_range=0.1,\n",
    "    height_shift_range=0.1,\n",
    "    shear_range=0.39,\n",
    "    zoom_range=0.2,\n",
    "    data_format='channels_first')"
   ]
  },
  {
   "cell_type": "code",
   "execution_count": 30,
   "metadata": {},
   "outputs": [],
   "source": [
    "data = np.array(data, dtype=np.float32)\n",
    "reshaped_data = data.reshape((12000, 1, 32, 32))\n",
    "datagen.fit(reshaped_data)\n",
    "generator = datagen.flow(reshaped_data, labels, batch_size=12000)"
   ]
  },
  {
   "cell_type": "code",
   "execution_count": 31,
   "metadata": {},
   "outputs": [],
   "source": [
    "for i in range(49):\n",
    "    new_dataset = generator.next()\n",
    "　   new_data = new_dataset[0].reshape((12000, 1024))\n",
    "　   new_labels = new_dataset[1]\n",
    "    data = np.concatenate((data, new_data))\n",
    "    labels = np.append(labels, new_labels)"
   ]
  },
  {
   "cell_type": "code",
   "execution_count": 34,
   "metadata": {},
   "outputs": [],
   "source": [
    "np.savez_compressed(\n",
    "    './hira.npz',\n",
    "    data=data,\n",
    "    labels=labels)"
   ]
  }
 ],
 "metadata": {
  "kernelspec": {
   "display_name": "Python 3",
   "language": "python",
   "name": "python3"
  },
  "language_info": {
   "codemirror_mode": {
    "name": "ipython",
    "version": 3
   },
   "file_extension": ".py",
   "mimetype": "text/x-python",
   "name": "python",
   "nbconvert_exporter": "python",
   "pygments_lexer": "ipython3",
   "version": "3.6.4"
  }
 },
 "nbformat": 4,
 "nbformat_minor": 2
}
