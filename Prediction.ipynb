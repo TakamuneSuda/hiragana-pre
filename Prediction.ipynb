{
 "cells": [
  {
   "cell_type": "markdown",
   "metadata": {},
   "source": [
    "## 予測  \n",
    "実際に手書きひらがなの画像から、予測させる。"
   ]
  },
  {
   "cell_type": "code",
   "execution_count": 15,
   "metadata": {},
   "outputs": [],
   "source": [
    "import tensorflow as tf\n",
    "from PIL import Image\n",
    "import numpy as np\n",
    "import pandas as pd\n",
    "from matplotlib.pyplot import imshow\n",
    "import matplotlib.pyplot as plt\n",
    "from sklearn.model_selection import train_test_split\n",
    "from argparse import ArgumentParser\n",
    "# cnnモデルのインポート\n",
    "from Model import cnn_model_fn"
   ]
  },
  {
   "cell_type": "markdown",
   "metadata": {},
   "source": [
    "### モデルの設定  \n",
    "\"model.py\"に保存した\"cnn_model_fn\"をmodel_fnとして設定"
   ]
  },
  {
   "cell_type": "code",
   "execution_count": 16,
   "metadata": {},
   "outputs": [],
   "source": [
    "model_dir = './model/etl8g_convnet_model'"
   ]
  },
  {
   "cell_type": "code",
   "execution_count": null,
   "metadata": {
    "scrolled": true
   },
   "outputs": [],
   "source": [
    "etl8g_classifier = tf.estimator.Estimator(\n",
    "    model_fn=cnn_model_fn, model_dir=model_dir)"
   ]
  },
  {
   "cell_type": "markdown",
   "metadata": {},
   "source": [
    "### 予測\n",
    "予測させたい手書きの画像を開き、予測できる形にする。"
   ]
  },
  {
   "cell_type": "code",
   "execution_count": 18,
   "metadata": {},
   "outputs": [],
   "source": [
    "image = Image.open('./pre_data/2.png')\n",
    "predict_data = np.asarray(image).reshape(1, 1024).astype(np.float32)/255"
   ]
  },
  {
   "cell_type": "code",
   "execution_count": 19,
   "metadata": {
    "scrolled": true
   },
   "outputs": [
    {
     "data": {
      "text/plain": [
       "array([[0., 0., 0., ..., 0., 0., 0.]], dtype=float32)"
      ]
     },
     "execution_count": 19,
     "metadata": {},
     "output_type": "execute_result"
    }
   ],
   "source": [
    "predict_data"
   ]
  },
  {
   "cell_type": "markdown",
   "metadata": {},
   "source": [
    "予測させる画像を可視化すると"
   ]
  },
  {
   "cell_type": "code",
   "execution_count": 20,
   "metadata": {},
   "outputs": [
    {
     "data": {
      "image/png": "[encoded data removed]",
      "text/plain": [
       "<matplotlib.figure.Figure at 0x1a2c051f98>"
      ]
     },
     "metadata": {},
     "output_type": "display_data"
    }
   ],
   "source": [
    "%matplotlib inline\n",
    "def img_show(img):\n",
    "    imshow(img)\n",
    "\n",
    "img_show(predict_data.reshape(32, 32))"
   ]
  },
  {
   "cell_type": "code",
   "execution_count": 21,
   "metadata": {},
   "outputs": [],
   "source": [
    "predict_input_fn = tf.estimator.inputs.numpy_input_fn(\n",
    "    x={\"x\": predict_data},\n",
    "    shuffle=False)"
   ]
  },
  {
   "cell_type": "markdown",
   "metadata": {},
   "source": [
    "実際に予測させる。"
   ]
  },
  {
   "cell_type": "code",
   "execution_count": 22,
   "metadata": {},
   "outputs": [
    {
     "name": "stdout",
     "output_type": "stream",
     "text": [
      "INFO:tensorflow:Calling model_fn.\n",
      "INFO:tensorflow:Done calling model_fn.\n",
      "INFO:tensorflow:Graph was finalized.\n",
      "INFO:tensorflow:Restoring parameters from ./model/etl8g_convnet_model/model.ckpt-33500\n",
      "INFO:tensorflow:Running local_init_op.\n",
      "INFO:tensorflow:Done running local_init_op.\n"
     ]
    }
   ],
   "source": [
    "predict_results = list(etl8g_classifier.predict(predict_input_fn))"
   ]
  },
  {
   "cell_type": "markdown",
   "metadata": {},
   "source": [
    "予測結果の出力は、確率がもっとも大きいラベルを表すclassesと、それぞれのラベルである確率を表すprobabilitiesとなっている。"
   ]
  },
  {
   "cell_type": "code",
   "execution_count": 23,
   "metadata": {},
   "outputs": [
    {
     "name": "stdout",
     "output_type": "stream",
     "text": [
      "{'classes': 25, 'probabilities': array([1.39639821e-21, 1.66612968e-32, 1.56775156e-27, 3.15828147e-13,\n",
      "       1.88821829e-16, 5.02108595e-15, 2.34904148e-21, 4.83860954e-17,\n",
      "       1.23971915e-22, 8.38567094e-23, 2.06212169e-21, 1.94573353e-18,\n",
      "       1.40737253e-20, 1.24063812e-20, 3.20313966e-27, 6.20262435e-12,\n",
      "       3.37267906e-17, 1.75284341e-24, 1.01904623e-21, 6.93162689e-16,\n",
      "       2.61871889e-19, 6.95258263e-04, 2.69817209e-13, 2.92178933e-14,\n",
      "       4.23174021e-17, 9.99304771e-01, 2.49484944e-09, 7.52845540e-13,\n",
      "       2.97544330e-20, 5.06577483e-24, 2.60056840e-21, 4.74441941e-27,\n",
      "       3.08152783e-16, 1.48563006e-14, 5.65779575e-16, 1.59833014e-21,\n",
      "       1.57598679e-09, 3.97360882e-13, 1.97364952e-23, 1.99336507e-18,\n",
      "       1.57098286e-29, 2.77326962e-13, 1.66752787e-18, 2.27882282e-18,\n",
      "       2.19633822e-15, 3.04131812e-17, 6.26907985e-18, 1.84755885e-27,\n",
      "       5.94876197e-22, 2.89749829e-18, 8.69403505e-25, 1.71014281e-17,\n",
      "       7.40362300e-18, 1.82159126e-24, 6.84971252e-26, 2.12116267e-28,\n",
      "       1.34730700e-19, 3.64623153e-19, 6.97638969e-09, 5.65739980e-26,\n",
      "       2.48663964e-13, 1.09563136e-14, 2.27789476e-09, 6.12823754e-22,\n",
      "       1.96840729e-17, 1.97935552e-17, 1.33477705e-14, 7.27074148e-31,\n",
      "       8.84489008e-28, 7.92535293e-23, 4.77824540e-13, 2.03111190e-21,\n",
      "       3.66588224e-19, 1.01955839e-08, 6.11059489e-13], dtype=float32)}\n"
     ]
    }
   ],
   "source": [
    "for i in predict_results:\n",
    "    print(i)"
   ]
  },
  {
   "cell_type": "markdown",
   "metadata": {},
   "source": [
    "数字だけでは何と予測したのかわからないので、前処理でも使用した'classmapping.csv'からひらがなのフレームを取得する。"
   ]
  },
  {
   "cell_type": "code",
   "execution_count": 24,
   "metadata": {},
   "outputs": [],
   "source": [
    "classmapping = pd.read_csv('../classmapping.csv', usecols=['ひらがな'], encoding='cp932')"
   ]
  },
  {
   "cell_type": "code",
   "execution_count": 25,
   "metadata": {},
   "outputs": [],
   "source": [
    "result = predict_results[0]['classes']"
   ]
  },
  {
   "cell_type": "code",
   "execution_count": 26,
   "metadata": {},
   "outputs": [
    {
     "name": "stdout",
     "output_type": "stream",
     "text": [
      "画像のひらがなは「た」です\n"
     ]
    }
   ],
   "source": [
    "print('画像のひらがなは「{}」です'.format(classmapping.iloc[result].ひらがな))"
   ]
  }
 ],
 "metadata": {
  "kernelspec": {
   "display_name": "Python 3",
   "language": "python",
   "name": "python3"
  },
  "language_info": {
   "codemirror_mode": {
    "name": "ipython",
    "version": 3
   },
   "file_extension": ".py",
   "mimetype": "text/x-python",
   "name": "python",
   "nbconvert_exporter": "python",
   "pygments_lexer": "ipython3",
   "version": "3.6.4"
  }
 },
 "nbformat": 4,
 "nbformat_minor": 2
}
