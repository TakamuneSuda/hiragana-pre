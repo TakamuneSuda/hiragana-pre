{
 "cells": [
  {
   "cell_type": "code",
   "execution_count": 1,
   "metadata": {},
   "outputs": [
    {
     "name": "stderr",
     "output_type": "stream",
     "text": [
      "/Users/sudatakamune/anaconda3/lib/python3.6/site-packages/h5py/__init__.py:36: FutureWarning: Conversion of the second argument of issubdtype from `float` to `np.floating` is deprecated. In future, it will be treated as `np.float64 == np.dtype(float).type`.\n",
      "  from ._conv import register_converters as _register_converters\n"
     ]
    }
   ],
   "source": [
    "import tensorflow as tf\n",
    "from PIL import Image\n",
    "from model import cnn_model_fn\n",
    "import numpy as np\n",
    "import pandas as pd\n",
    "from matplotlib.pyplot import imshow\n",
    "import matplotlib.pyplot as plt\n",
    "from sklearn.model_selection import train_test_split\n",
    "from argparse import ArgumentParser"
   ]
  },
  {
   "cell_type": "code",
   "execution_count": 2,
   "metadata": {},
   "outputs": [],
   "source": [
    "model_dir = './model/etf8g_convnet_model'"
   ]
  },
  {
   "cell_type": "code",
   "execution_count": 3,
   "metadata": {
    "scrolled": true
   },
   "outputs": [
    {
     "name": "stdout",
     "output_type": "stream",
     "text": [
      "INFO:tensorflow:Using default config.\n",
      "INFO:tensorflow:Using config: {'_model_dir': './model/etf8g_convnet_model', '_tf_random_seed': None, '_save_summary_steps': 100, '_save_checkpoints_steps': None, '_save_checkpoints_secs': 600, '_session_config': allow_soft_placement: true\n",
      "graph_options {\n",
      "  rewrite_options {\n",
      "    meta_optimizer_iterations: ONE\n",
      "  }\n",
      "}\n",
      ", '_keep_checkpoint_max': 5, '_keep_checkpoint_every_n_hours': 10000, '_log_step_count_steps': 100, '_train_distribute': None, '_device_fn': None, '_protocol': None, '_eval_distribute': None, '_experimental_distribute': None, '_service': None, '_cluster_spec': <tensorflow.python.training.server_lib.ClusterSpec object at 0x1a1bb50eb8>, '_task_type': 'worker', '_task_id': 0, '_global_id_in_cluster': 0, '_master': '', '_evaluation_master': '', '_is_chief': True, '_num_ps_replicas': 0, '_num_worker_replicas': 1}\n"
     ]
    }
   ],
   "source": [
    "etf8g_classifier = tf.estimator.Estimator(\n",
    "    model_fn=cnn_model_fn, model_dir=model_dir)"
   ]
  },
  {
   "cell_type": "code",
   "execution_count": 13,
   "metadata": {},
   "outputs": [],
   "source": [
    "image = Image.open('ta.png')\n",
    "predict_data = np.asarray(image).reshape(1, 1024).astype(np.float32)/255"
   ]
  },
  {
   "cell_type": "code",
   "execution_count": 14,
   "metadata": {},
   "outputs": [
    {
     "data": {
      "text/plain": [
       "array([[0., 0., 0., ..., 0., 0., 0.]], dtype=float32)"
      ]
     },
     "execution_count": 14,
     "metadata": {},
     "output_type": "execute_result"
    }
   ],
   "source": [
    "predict_data"
   ]
  },
  {
   "cell_type": "code",
   "execution_count": 15,
   "metadata": {},
   "outputs": [
    {
     "data": {
      "image/png": "[encoded data removed]",
      "text/plain": [
       "<matplotlib.figure.Figure at 0x1a1bb7c208>"
      ]
     },
     "metadata": {},
     "output_type": "display_data"
    }
   ],
   "source": [
    "%matplotlib inline\n",
    "def img_show(img):\n",
    "    imshow(img)\n",
    "\n",
    "img_show(predict_data.reshape(32, 32))"
   ]
  },
  {
   "cell_type": "code",
   "execution_count": 16,
   "metadata": {},
   "outputs": [],
   "source": [
    "predict_input_fn = tf.estimator.inputs.numpy_input_fn(\n",
    "    x={\"x\": predict_data},\n",
    "    shuffle=False)"
   ]
  },
  {
   "cell_type": "code",
   "execution_count": 17,
   "metadata": {},
   "outputs": [
    {
     "name": "stdout",
     "output_type": "stream",
     "text": [
      "INFO:tensorflow:Calling model_fn.\n",
      "INFO:tensorflow:Done calling model_fn.\n",
      "INFO:tensorflow:Graph was finalized.\n",
      "INFO:tensorflow:Restoring parameters from ./model/etf8g_convnet_model/model.ckpt-30005\n",
      "INFO:tensorflow:Running local_init_op.\n",
      "INFO:tensorflow:Done running local_init_op.\n"
     ]
    }
   ],
   "source": [
    "predict_results = list(etf8g_classifier.predict(predict_input_fn))"
   ]
  },
  {
   "cell_type": "code",
   "execution_count": 18,
   "metadata": {},
   "outputs": [
    {
     "name": "stdout",
     "output_type": "stream",
     "text": [
      "{'classes': 25, 'probabilities': array([3.22418587e-31, 1.35127624e-35, 2.25028465e-25, 4.48260548e-18,\n",
      "       3.50341115e-25, 1.83630941e-22, 2.40969470e-25, 3.33805862e-18,\n",
      "       2.17168816e-23, 8.34108992e-28, 4.65639047e-26, 2.03539991e-32,\n",
      "       1.67760438e-33, 1.22041934e-25, 4.92022025e-30, 2.44721177e-18,\n",
      "       2.33184523e-24, 3.85445700e-33, 2.17959692e-31, 5.12918324e-27,\n",
      "       1.97599630e-29, 1.90846400e-20, 4.28850403e-27, 1.03781785e-16,\n",
      "       2.46925170e-23, 1.00000000e+00, 5.94423455e-10, 7.95169111e-20,\n",
      "       3.12117193e-26, 1.60497743e-31, 1.35702914e-30, 6.07108743e-33,\n",
      "       2.04926711e-25, 2.42296242e-22, 1.28197798e-25, 4.25866625e-29,\n",
      "       5.35907327e-15, 3.66853411e-17, 1.32084874e-30, 1.39768738e-24,\n",
      "       7.32948646e-37, 1.01727758e-26, 5.32607204e-32, 1.27857193e-28,\n",
      "       4.27117962e-28, 3.19289757e-26, 8.91101716e-26, 2.46112975e-28,\n",
      "       8.60350173e-28, 8.36692066e-24, 1.48358482e-25, 3.39471511e-18,\n",
      "       3.24211956e-23, 2.55603358e-24, 1.62220161e-29, 5.06171367e-28,\n",
      "       1.75845852e-23, 6.09756508e-27, 8.05806111e-24, 3.60873008e-37,\n",
      "       8.16663060e-21, 3.20498110e-17, 2.40023713e-13, 1.63128978e-25,\n",
      "       6.15581297e-25, 1.49922211e-28, 3.06699507e-20, 3.02355835e-29,\n",
      "       2.49783109e-33, 1.91637890e-28, 1.88740580e-17, 1.09627931e-24,\n",
      "       2.04924262e-26, 7.95151098e-12, 1.85630655e-20], dtype=float32)}\n"
     ]
    }
   ],
   "source": [
    "for i in predict_results:\n",
    "    print(i)"
   ]
  },
  {
   "cell_type": "code",
   "execution_count": 19,
   "metadata": {},
   "outputs": [],
   "source": [
    "classmapping = pd.read_csv('./classmapping.csv', usecols=['ひらがな'], encoding='cp932')"
   ]
  },
  {
   "cell_type": "code",
   "execution_count": 20,
   "metadata": {},
   "outputs": [],
   "source": [
    "result = classmapping.iloc[predict_results[0]['classes']].ひらがな"
   ]
  },
  {
   "cell_type": "code",
   "execution_count": 21,
   "metadata": {},
   "outputs": [
    {
     "name": "stdout",
     "output_type": "stream",
     "text": [
      "た\n"
     ]
    }
   ],
   "source": [
    "print(result)"
   ]
  },
  {
   "cell_type": "code",
   "execution_count": null,
   "metadata": {},
   "outputs": [],
   "source": []
  }
 ],
 "metadata": {
  "kernelspec": {
   "display_name": "Python 3",
   "language": "python",
   "name": "python3"
  },
  "language_info": {
   "codemirror_mode": {
    "name": "ipython",
    "version": 3
   },
   "file_extension": ".py",
   "mimetype": "text/x-python",
   "name": "python",
   "nbconvert_exporter": "python",
   "pygments_lexer": "ipython3",
   "version": "3.6.4"
  }
 },
 "nbformat": 4,
 "nbformat_minor": 2
}
